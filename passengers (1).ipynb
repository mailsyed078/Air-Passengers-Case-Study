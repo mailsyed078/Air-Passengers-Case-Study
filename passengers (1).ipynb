{
 "cells": [
  {
   "cell_type": "code",
   "execution_count": 0,
   "metadata": {
    "application/vnd.databricks.v1+cell": {
     "cellMetadata": {},
     "inputWidgets": {},
     "nuid": "773662d9-c04b-4c0b-aae5-a30715135b05",
     "showTitle": false,
     "title": ""
    }
   },
   "outputs": [],
   "source": [
    "import numpy as np # linear algebra\n",
    "from numpy import log\n",
    "\n",
    "import pandas as pd # data processing, CSV file I/O (e.g. pd.read_csv)\n",
    "\n",
    "import seaborn as sns # Visualization\n",
    "import matplotlib.pyplot as plt # Visualization\n",
    "\n",
    "import math\n",
    "\n",
    "from statsmodels.tsa.stattools import adfuller,acf, pacf\n",
    "from statsmodels.tsa.arima_model import ARIMA\n",
    "import statsmodels.api as sm\n",
    "from pylab import rcParams\n",
    "\n",
    "from statsmodels.tsa.stattools import adfuller\n",
    "from statsmodels.graphics.tsaplots import plot_acf, plot_pacf\n",
    "from sklearn.metrics import mean_squared_error\n",
    "from math import sqrt\n",
    "from statsmodels.tsa.stattools import adfuller #for Stationarity\n",
    "\n",
    "\n",
    "import pmdarima as pm # Auto TimeSeries\n",
    "\n",
    "from sklearn.metrics import mean_absolute_error, mean_squared_error #Error Metrics\n",
    "import warnings # Supress warnings \n",
    "warnings.filterwarnings('ignore')"
   ]
  },
  {
   "cell_type": "code",
   "execution_count": 0,
   "metadata": {
    "application/vnd.databricks.v1+cell": {
     "cellMetadata": {
      "byteLimit": 2048000,
      "rowLimit": 10000
     },
     "inputWidgets": {},
     "nuid": "dfdf483d-e20f-4f75-94e1-c426394c67ad",
     "showTitle": false,
     "title": ""
    }
   },
   "outputs": [],
   "source": [
    "import seaborn as sns"
   ]
  },
  {
   "cell_type": "code",
   "execution_count": 0,
   "metadata": {
    "application/vnd.databricks.v1+cell": {
     "cellMetadata": {},
     "inputWidgets": {},
     "nuid": "e5958b9f-f1fc-48b1-a289-bae8633eb4d1",
     "showTitle": false,
     "title": ""
    }
   },
   "outputs": [],
   "source": [
    "df = pd.read_csv(\"https://raw.githubusercontent.com/AileenNielsen/TimeSeriesAnalysisWithPython/master/data/AirPassengers.csv\")\n",
    "\n",
    "#string to date format\n",
    "df['Month'] = pd.to_datetime(df['Month'],infer_datetime_format=True)\n",
    "df = df.set_index(['Month'])\n",
    "df.head(5)"
   ]
  },
  {
   "cell_type": "code",
   "execution_count": 0,
   "metadata": {
    "application/vnd.databricks.v1+cell": {
     "cellMetadata": {},
     "inputWidgets": {},
     "nuid": "a431af83-0b0e-498e-888d-b82cf72c5b04",
     "showTitle": false,
     "title": ""
    }
   },
   "outputs": [],
   "source": [
    "df.shape"
   ]
  },
  {
   "cell_type": "code",
   "execution_count": 0,
   "metadata": {
    "application/vnd.databricks.v1+cell": {
     "cellMetadata": {},
     "inputWidgets": {},
     "nuid": "183142ed-76b9-4239-9f29-36a2534b2e79",
     "showTitle": false,
     "title": ""
    }
   },
   "outputs": [],
   "source": [
    "df.rename(columns = {'#Passengers':'Passengers'}, inplace = True)"
   ]
  },
  {
   "cell_type": "code",
   "execution_count": 0,
   "metadata": {
    "application/vnd.databricks.v1+cell": {
     "cellMetadata": {},
     "inputWidgets": {},
     "nuid": "82e1fc29-c533-47cf-a11f-f5a4051c1143",
     "showTitle": false,
     "title": ""
    }
   },
   "outputs": [],
   "source": [
    "df.head(5)"
   ]
  },
  {
   "cell_type": "code",
   "execution_count": 0,
   "metadata": {
    "application/vnd.databricks.v1+cell": {
     "cellMetadata": {},
     "inputWidgets": {},
     "nuid": "f371c245-0f4c-4cf2-943b-f6cd2340ce5a",
     "showTitle": false,
     "title": ""
    }
   },
   "outputs": [],
   "source": [
    "# ### visualizing graph to see the components"
   ]
  },
  {
   "cell_type": "code",
   "execution_count": 0,
   "metadata": {
    "application/vnd.databricks.v1+cell": {
     "cellMetadata": {},
     "inputWidgets": {},
     "nuid": "a6db33ac-d392-4e22-8677-42c8447d129c",
     "showTitle": false,
     "title": ""
    }
   },
   "outputs": [],
   "source": [
    "plt.figure(figsize=(15,7))\n",
    "plt.title(\"Number of Airline Passengers by Years\")\n",
    "plt.xlabel('Year')\n",
    "plt.ylabel('Passengers')\n",
    "plt.plot(df)\n",
    "plt.show()"
   ]
  },
  {
   "cell_type": "code",
   "execution_count": 0,
   "metadata": {
    "application/vnd.databricks.v1+cell": {
     "cellMetadata": {},
     "inputWidgets": {},
     "nuid": "8045f807-8984-4c9b-8175-a273e001def5",
     "showTitle": false,
     "title": ""
    }
   },
   "outputs": [],
   "source": [
    "df_train = df[:134]\n",
    "df_test = df[134:]"
   ]
  },
  {
   "cell_type": "code",
   "execution_count": 0,
   "metadata": {
    "application/vnd.databricks.v1+cell": {
     "cellMetadata": {},
     "inputWidgets": {},
     "nuid": "c03f2e3a-949e-42ba-bd78-3509ae790c56",
     "showTitle": false,
     "title": ""
    }
   },
   "outputs": [],
   "source": [
    "#### Stationarity check"
   ]
  },
  {
   "cell_type": "code",
   "execution_count": 0,
   "metadata": {
    "application/vnd.databricks.v1+cell": {
     "cellMetadata": {},
     "inputWidgets": {},
     "nuid": "ebae35ba-5baa-48cd-8679-9a55e2228453",
     "showTitle": false,
     "title": ""
    }
   },
   "outputs": [],
   "source": [
    "def stationarity_test(timeseries):\n",
    "    # Get rolling statistics for window = 12 i.e. yearly statistics\n",
    "    rolling_mean = timeseries.rolling(window = 12).mean()\n",
    "    rolling_std = timeseries.rolling(window = 12).std()\n",
    "    \n",
    "    # Plot rolling statistic\n",
    "    plt.figure(figsize= (10,6))\n",
    "    plt.xlabel('Years')\n",
    "    plt.ylabel('Open')    \n",
    "    plt.title('Stationary Test: Rolling Mean and Standard Deviation')\n",
    "    plt.plot(timeseries, color= 'blue', label= 'Original')\n",
    "    plt.plot(rolling_mean, color= 'green', label= 'Rolling Mean')\n",
    "    plt.plot(rolling_std, color= 'red', label= 'Rolling Std')   \n",
    "    plt.legend()\n",
    "    plt.show()\n",
    "    \n",
    "    # Dickey-Fuller test\n",
    "    print('Results of Dickey-Fuller Test')\n",
    "    df_test = adfuller(timeseries)\n",
    "\n",
    "    df_output = pd.Series(df_test[0:4], index = ['Test Statistic', 'p-value', '#Lags Used', 'Number of Observations Used'])\n",
    "    for key, value in df_test[4].items():\n",
    "        df_output['Critical Value (%s)' %key] = value\n",
    "    print(df_output)\n",
    "\n",
    "    adf = df_test[0]\n",
    "    pvalue = df_test[1]\n",
    "    critical_value = df_test[4]['5%']\n",
    "    if(pvalue < 0.05) and (adf < critical_value):\n",
    "        print(\"The Series is STATIONARY\")\n",
    "    else:\n",
    "        print(\"The Series is NOT Stationary\")"
   ]
  },
  {
   "cell_type": "code",
   "execution_count": 0,
   "metadata": {
    "application/vnd.databricks.v1+cell": {
     "cellMetadata": {},
     "inputWidgets": {},
     "nuid": "7d23c5a6-0ee1-4d98-b0fb-d2562a722f40",
     "showTitle": false,
     "title": ""
    }
   },
   "outputs": [],
   "source": [
    "# Lets test the stationarity score with original series data\n",
    "stationarity_test(df_train)"
   ]
  },
  {
   "cell_type": "code",
   "execution_count": 0,
   "metadata": {
    "application/vnd.databricks.v1+cell": {
     "cellMetadata": {},
     "inputWidgets": {},
     "nuid": "7405def1-8d1d-4b7b-959c-8ea7f14520b5",
     "showTitle": false,
     "title": ""
    }
   },
   "outputs": [],
   "source": [
    "### Using Differencing to make data Stationary"
   ]
  },
  {
   "cell_type": "code",
   "execution_count": 0,
   "metadata": {
    "application/vnd.databricks.v1+cell": {
     "cellMetadata": {},
     "inputWidgets": {},
     "nuid": "f8e53090-bd31-4246-9d62-69c2db8fcae7",
     "showTitle": false,
     "title": ""
    }
   },
   "outputs": [],
   "source": [
    "df_train_diff = df_train.diff(periods = 1) # First order differencing\n",
    "plt.xlabel('Years')\n",
    "plt.ylabel('Passengers')    \n",
    "plt.title('Convert Non Stationary Data to Stationary Data using Differencing ')\n",
    "plt.plot(df_train_diff)"
   ]
  },
  {
   "cell_type": "code",
   "execution_count": 0,
   "metadata": {
    "application/vnd.databricks.v1+cell": {
     "cellMetadata": {},
     "inputWidgets": {},
     "nuid": "9e9d4523-ed43-4641-9289-1c02a27efae3",
     "showTitle": false,
     "title": ""
    }
   },
   "outputs": [],
   "source": [
    "df_train_diff.dropna(inplace = True)# Data transformation may add na values\n",
    "stationarity_test(df_train_diff)\n"
   ]
  },
  {
   "cell_type": "code",
   "execution_count": 0,
   "metadata": {
    "application/vnd.databricks.v1+cell": {
     "cellMetadata": {},
     "inputWidgets": {},
     "nuid": "aedde81a-dd2b-445d-a60a-c10842a25a16",
     "showTitle": false,
     "title": ""
    }
   },
   "outputs": [],
   "source": [
    "#### Likewise we can 2nd order differencing(if the data is not stationary in the 1st order differencing"
   ]
  },
  {
   "cell_type": "code",
   "execution_count": 0,
   "metadata": {
    "application/vnd.databricks.v1+cell": {
     "cellMetadata": {},
     "inputWidgets": {},
     "nuid": "c041ae5b-96b8-464e-a234-41d10cbff8f7",
     "showTitle": false,
     "title": ""
    }
   },
   "outputs": [],
   "source": [
    "df_train_diff2 = df_train_diff.diff(periods = 1) # second order differencing\n",
    "plt.xlabel('Years')\n",
    "plt.ylabel('Passengers')    \n",
    "plt.title('Convert Non Stationary Data to Stationary Data using 2nd Differencing ')\n",
    "plt.plot(df_train_diff2)"
   ]
  },
  {
   "cell_type": "code",
   "execution_count": 0,
   "metadata": {
    "application/vnd.databricks.v1+cell": {
     "cellMetadata": {},
     "inputWidgets": {},
     "nuid": "d9075865-3dfa-4056-a163-fc6677016702",
     "showTitle": false,
     "title": ""
    }
   },
   "outputs": [],
   "source": [
    "df_train_diff2.dropna(inplace = True)# Data transformation may add na values\n",
    "stationarity_test(df_train_diff2)"
   ]
  },
  {
   "cell_type": "code",
   "execution_count": 0,
   "metadata": {
    "application/vnd.databricks.v1+cell": {
     "cellMetadata": {},
     "inputWidgets": {},
     "nuid": "af25111a-9457-49d3-837d-8273eec30c7b",
     "showTitle": false,
     "title": ""
    }
   },
   "outputs": [],
   "source": [
    "### Additionally we can use transformation techniques like Log, exponential etc for smoothing the data."
   ]
  },
  {
   "cell_type": "code",
   "execution_count": 0,
   "metadata": {
    "application/vnd.databricks.v1+cell": {
     "cellMetadata": {},
     "inputWidgets": {},
     "nuid": "3b272410-1cfc-4f9a-8e00-9eabdb784f64",
     "showTitle": false,
     "title": ""
    }
   },
   "outputs": [],
   "source": [
    "\n",
    "df_train_log = np.log(df_train)\n",
    "\n",
    "plt.subplot(211)\n",
    "plt.plot(df_train, label= 'Time Series with Variance')\n",
    "plt.legend()\n",
    "plt.subplot(212)\n",
    "plt.plot(df_train_log, label='Time Series without Variance (Log Transformation)')\n",
    "plt.legend()  \n",
    "plt.show()\n"
   ]
  },
  {
   "cell_type": "code",
   "execution_count": 0,
   "metadata": {
    "application/vnd.databricks.v1+cell": {
     "cellMetadata": {},
     "inputWidgets": {},
     "nuid": "00d47515-0503-43e1-923c-08daee06ae7b",
     "showTitle": false,
     "title": ""
    }
   },
   "outputs": [],
   "source": [
    "stationarity_test(df_train_log)\n"
   ]
  },
  {
   "cell_type": "code",
   "execution_count": 0,
   "metadata": {
    "application/vnd.databricks.v1+cell": {
     "cellMetadata": {},
     "inputWidgets": {},
     "nuid": "d030d2b0-0b32-4f64-b746-03326d8c38ac",
     "showTitle": false,
     "title": ""
    }
   },
   "outputs": [],
   "source": [
    "### Rolling mean on the log data (Moving Average)"
   ]
  },
  {
   "cell_type": "code",
   "execution_count": 0,
   "metadata": {
    "application/vnd.databricks.v1+cell": {
     "cellMetadata": {},
     "inputWidgets": {},
     "nuid": "a9d86707-1abf-491a-bf82-3006db23756e",
     "showTitle": false,
     "title": ""
    }
   },
   "outputs": [],
   "source": [
    "df_train_log_moving_avg = df_train_log.rolling(window = 12).mean()\n",
    "plt.xlabel('Years')\n",
    "plt.ylabel('Open')    \n",
    "plt.title('Convert Non Stationary Data to Stationary Data using Moving Average')\n",
    "plt.plot(df_train_log, color= 'blue', label='Orignal')\n",
    "plt.plot(df_train_log_moving_avg, color= 'red', label='Moving Average')\n",
    "plt.legend()"
   ]
  },
  {
   "cell_type": "code",
   "execution_count": 0,
   "metadata": {
    "application/vnd.databricks.v1+cell": {
     "cellMetadata": {},
     "inputWidgets": {},
     "nuid": "d515c18d-20de-4203-9a6a-d9a848dfd7a4",
     "showTitle": false,
     "title": ""
    },
    "scrolled": true
   },
   "outputs": [],
   "source": [
    "df_train_log_moving_avg_diff = df_train_log - df_train_log_moving_avg\n",
    "df_train_log_moving_avg_diff.dropna(inplace = True)\n",
    "stationarity_test(df_train_log_moving_avg_diff)\n"
   ]
  },
  {
   "cell_type": "code",
   "execution_count": 0,
   "metadata": {
    "application/vnd.databricks.v1+cell": {
     "cellMetadata": {},
     "inputWidgets": {},
     "nuid": "ad0c5ad8-651e-4b99-85f0-d1f5eba8dcfd",
     "showTitle": false,
     "title": ""
    }
   },
   "outputs": [],
   "source": [
    "fig, axes = plt.subplots(1,2,figsize=(16,3), dpi= 100)\n",
    "plot_acf(df_train_diff2['Passengers'].tolist(), lags=20, ax=axes[0])\n",
    "plot_pacf(df_train_diff2['Passengers'].tolist(), lags=20, ax=axes[1])"
   ]
  },
  {
   "cell_type": "code",
   "execution_count": 0,
   "metadata": {
    "application/vnd.databricks.v1+cell": {
     "cellMetadata": {},
     "inputWidgets": {},
     "nuid": "2dc71e4c-d50c-4ede-891e-7786e812015a",
     "showTitle": false,
     "title": ""
    }
   },
   "outputs": [],
   "source": [
    "# Take the first difference to remove to make the process stationary\n",
    "#data_diff = df.Passengers - df.Passengers.shift(1)"
   ]
  },
  {
   "cell_type": "code",
   "execution_count": 0,
   "metadata": {
    "application/vnd.databricks.v1+cell": {
     "cellMetadata": {},
     "inputWidgets": {},
     "nuid": "299fbbaa-5d34-4652-b559-a53869e3d204",
     "showTitle": false,
     "title": ""
    }
   },
   "outputs": [],
   "source": [
    "#### Building ARIMA"
   ]
  },
  {
   "cell_type": "code",
   "execution_count": 0,
   "metadata": {
    "application/vnd.databricks.v1+cell": {
     "cellMetadata": {},
     "inputWidgets": {},
     "nuid": "2178737b-42c3-4e3a-bb7c-5c1a870a47d6",
     "showTitle": false,
     "title": ""
    }
   },
   "outputs": [],
   "source": [
    "from statsmodels.tsa.arima.model import ARIMA\n"
   ]
  },
  {
   "cell_type": "code",
   "execution_count": 0,
   "metadata": {
    "application/vnd.databricks.v1+cell": {
     "cellMetadata": {},
     "inputWidgets": {},
     "nuid": "811c4e29-9b9e-4a27-a1c7-14849e6079d8",
     "showTitle": false,
     "title": ""
    }
   },
   "outputs": [],
   "source": [
    "model1 = ARIMA(df_train, order = (14,2,6)) \n",
    "results_ARIMA = model1.fit()\n",
    "print(results_ARIMA.summary())\n"
   ]
  },
  {
   "cell_type": "code",
   "execution_count": 0,
   "metadata": {
    "application/vnd.databricks.v1+cell": {
     "cellMetadata": {},
     "inputWidgets": {},
     "nuid": "7cdf50a3-8677-4449-8879-bc43cb60e249",
     "showTitle": false,
     "title": ""
    }
   },
   "outputs": [],
   "source": [
    "results_ARIMA.plot_diagnostics(figsize=(10,8))\n",
    "plt.show()\n"
   ]
  },
  {
   "cell_type": "code",
   "execution_count": 0,
   "metadata": {
    "application/vnd.databricks.v1+cell": {
     "cellMetadata": {},
     "inputWidgets": {},
     "nuid": "fc2df065-9e06-466c-b1bb-3a1a1711341e",
     "showTitle": false,
     "title": ""
    }
   },
   "outputs": [],
   "source": [
    "pred = results_ARIMA.predict()"
   ]
  },
  {
   "cell_type": "code",
   "execution_count": 0,
   "metadata": {
    "application/vnd.databricks.v1+cell": {
     "cellMetadata": {},
     "inputWidgets": {},
     "nuid": "e96bff6d-c92a-4e70-a8b9-879d7f48b052",
     "showTitle": false,
     "title": ""
    }
   },
   "outputs": [],
   "source": [
    "type(pred)"
   ]
  },
  {
   "cell_type": "code",
   "execution_count": 0,
   "metadata": {
    "application/vnd.databricks.v1+cell": {
     "cellMetadata": {},
     "inputWidgets": {},
     "nuid": "6db9b077-6e0c-4a2a-9fd2-fbcf53a2a24f",
     "showTitle": false,
     "title": ""
    }
   },
   "outputs": [],
   "source": [
    "pred"
   ]
  },
  {
   "cell_type": "code",
   "execution_count": 0,
   "metadata": {
    "application/vnd.databricks.v1+cell": {
     "cellMetadata": {},
     "inputWidgets": {},
     "nuid": "a1e73d60-a3b5-475a-bb5d-5b77033cb798",
     "showTitle": false,
     "title": ""
    }
   },
   "outputs": [],
   "source": [
    "pred = pred.to_frame()\n",
    "pred.head()"
   ]
  },
  {
   "cell_type": "code",
   "execution_count": 0,
   "metadata": {
    "application/vnd.databricks.v1+cell": {
     "cellMetadata": {},
     "inputWidgets": {},
     "nuid": "f2c7e423-e662-4d74-ba65-991abd91fb84",
     "showTitle": false,
     "title": ""
    }
   },
   "outputs": [],
   "source": [
    "pred.head(5)"
   ]
  },
  {
   "cell_type": "code",
   "execution_count": 0,
   "metadata": {
    "application/vnd.databricks.v1+cell": {
     "cellMetadata": {},
     "inputWidgets": {},
     "nuid": "0ef5ad54-3f2c-4697-9838-19b6a641a81b",
     "showTitle": false,
     "title": ""
    }
   },
   "outputs": [],
   "source": [
    "pred.tail(5)"
   ]
  },
  {
   "cell_type": "code",
   "execution_count": 0,
   "metadata": {
    "application/vnd.databricks.v1+cell": {
     "cellMetadata": {},
     "inputWidgets": {},
     "nuid": "89fb6830-4f5c-44f4-abb2-45e9dd668954",
     "showTitle": false,
     "title": ""
    }
   },
   "outputs": [],
   "source": [
    "print(\"Train MAPE: \",mean_absolute_percentage_error(df_train.Passengers,pred.predicted_mean))"
   ]
  },
  {
   "cell_type": "code",
   "execution_count": 0,
   "metadata": {
    "application/vnd.databricks.v1+cell": {
     "cellMetadata": {},
     "inputWidgets": {},
     "nuid": "3f216d51-ca3b-4a80-b39b-d690c6ccfd44",
     "showTitle": false,
     "title": ""
    }
   },
   "outputs": [],
   "source": [
    "print(\"Train MSE: \",mean_squared_error(df_train.Passengers,pred.predicted_mean))"
   ]
  },
  {
   "cell_type": "code",
   "execution_count": 0,
   "metadata": {
    "application/vnd.databricks.v1+cell": {
     "cellMetadata": {},
     "inputWidgets": {},
     "nuid": "97722fab-5bd1-48bc-9de4-b1d8ee781daf",
     "showTitle": false,
     "title": ""
    }
   },
   "outputs": [],
   "source": [
    "forecast_test = results_ARIMA.forecast(10)"
   ]
  },
  {
   "cell_type": "code",
   "execution_count": 0,
   "metadata": {
    "application/vnd.databricks.v1+cell": {
     "cellMetadata": {},
     "inputWidgets": {},
     "nuid": "d6b71b52-ea16-4c18-bf79-de1a956fb390",
     "showTitle": false,
     "title": ""
    }
   },
   "outputs": [],
   "source": [
    "forecast_test = forecast_test.to_frame()\n",
    "forecast_test.head()"
   ]
  },
  {
   "cell_type": "code",
   "execution_count": 0,
   "metadata": {
    "application/vnd.databricks.v1+cell": {
     "cellMetadata": {},
     "inputWidgets": {},
     "nuid": "63d168d1-c717-48fa-be3c-ded3cc9fb36d",
     "showTitle": false,
     "title": ""
    }
   },
   "outputs": [],
   "source": [
    "forecast_test.head(10)"
   ]
  },
  {
   "cell_type": "code",
   "execution_count": 0,
   "metadata": {
    "application/vnd.databricks.v1+cell": {
     "cellMetadata": {},
     "inputWidgets": {},
     "nuid": "0433bbbd-2d31-4f3a-91de-8188759a966e",
     "showTitle": false,
     "title": ""
    }
   },
   "outputs": [],
   "source": [
    "print(\"Test MAPE: \",mean_absolute_percentage_error(df_test.Passengers,forecast_test.predicted_mean))"
   ]
  },
  {
   "cell_type": "code",
   "execution_count": 0,
   "metadata": {
    "application/vnd.databricks.v1+cell": {
     "cellMetadata": {},
     "inputWidgets": {},
     "nuid": "00b3c005-600d-4d13-8170-75349d77aab3",
     "showTitle": false,
     "title": ""
    }
   },
   "outputs": [],
   "source": [
    "print(\"Test MSE: \",mean_squared_error(df_test.Passengers,forecast_test.predicted_mean))"
   ]
  },
  {
   "cell_type": "code",
   "execution_count": 0,
   "metadata": {
    "application/vnd.databricks.v1+cell": {
     "cellMetadata": {},
     "inputWidgets": {},
     "nuid": "84c6d927-5092-4704-aa72-8245e5fb42ba",
     "showTitle": false,
     "title": ""
    }
   },
   "outputs": [],
   "source": [
    "plt.figure(figsize= (10,6))\n",
    "plt.plot(df_train.Passengers)\n",
    "plt.plot(df_test.Passengers,color=\"orange\")\n",
    "plt.plot(forecast_test.predicted_mean,color=\"darkgreen\")\n",
    "plt.xlabel('Years')\n",
    "plt.ylabel('Open stocks')\n",
    "plt.title('forecasting the Time Series')"
   ]
  },
  {
   "cell_type": "code",
   "execution_count": 0,
   "metadata": {
    "application/vnd.databricks.v1+cell": {
     "cellMetadata": {},
     "inputWidgets": {},
     "nuid": "cd518781-29f9-4421-82ec-ce58c9241a16",
     "showTitle": false,
     "title": ""
    }
   },
   "outputs": [],
   "source": [
    "#### Auto ARIMA on Train dataset"
   ]
  },
  {
   "cell_type": "code",
   "execution_count": 0,
   "metadata": {
    "application/vnd.databricks.v1+cell": {
     "cellMetadata": {},
     "inputWidgets": {},
     "nuid": "e036377f-ce46-4544-b4dd-778ab1c4a415",
     "showTitle": false,
     "title": ""
    }
   },
   "outputs": [],
   "source": [
    "model2 = pm.auto_arima(df_train, \n",
    "                      trace=True,\n",
    "                      )\n",
    "\n",
    "print(model2.summary())"
   ]
  },
  {
   "cell_type": "code",
   "execution_count": 0,
   "metadata": {
    "application/vnd.databricks.v1+cell": {
     "cellMetadata": {},
     "inputWidgets": {},
     "nuid": "611d6f4e-cee1-4135-87f0-cdddfb93eabc",
     "showTitle": false,
     "title": ""
    }
   },
   "outputs": [],
   "source": [
    "model2.plot_diagnostics()"
   ]
  },
  {
   "cell_type": "code",
   "execution_count": 0,
   "metadata": {
    "application/vnd.databricks.v1+cell": {
     "cellMetadata": {},
     "inputWidgets": {},
     "nuid": "490f00c4-676b-4c09-9162-c8802efed6e0",
     "showTitle": false,
     "title": ""
    }
   },
   "outputs": [],
   "source": [
    "test_pred_2 = model2.predict()"
   ]
  },
  {
   "cell_type": "code",
   "execution_count": 0,
   "metadata": {
    "application/vnd.databricks.v1+cell": {
     "cellMetadata": {},
     "inputWidgets": {},
     "nuid": "df8364c6-c7eb-42a7-91e5-b103b649309d",
     "showTitle": false,
     "title": ""
    }
   },
   "outputs": [],
   "source": [
    "test_pred_2= test_pred_2.to_frame()\n",
    "test_pred_2.head()"
   ]
  },
  {
   "cell_type": "code",
   "execution_count": 0,
   "metadata": {
    "application/vnd.databricks.v1+cell": {
     "cellMetadata": {},
     "inputWidgets": {},
     "nuid": "93d8b8ad-6c6c-4c87-ac42-258d900f1dce",
     "showTitle": false,
     "title": ""
    }
   },
   "outputs": [],
   "source": [
    "test_pred_2.rename(columns={0:\"Prediction\"},inplace=True)"
   ]
  },
  {
   "cell_type": "code",
   "execution_count": 0,
   "metadata": {
    "application/vnd.databricks.v1+cell": {
     "cellMetadata": {},
     "inputWidgets": {},
     "nuid": "13e48f05-a60c-4eb6-81a7-f2c1e687ccbf",
     "showTitle": false,
     "title": ""
    }
   },
   "outputs": [],
   "source": [
    "print(\"Test MAPE on Model2: \", mean_absolute_percentage_error(df_test.Passengers,test_pred_2.Prediction))"
   ]
  },
  {
   "cell_type": "code",
   "execution_count": 0,
   "metadata": {
    "application/vnd.databricks.v1+cell": {
     "cellMetadata": {},
     "inputWidgets": {},
     "nuid": "5404e13b-24cb-41d6-bf52-24a27deeb041",
     "showTitle": false,
     "title": ""
    }
   },
   "outputs": [],
   "source": [
    "print(\"Test MSE on Model2: \", mean_squared_error(df_test.Passengers,test_pred_2.Prediction))"
   ]
  },
  {
   "cell_type": "code",
   "execution_count": 0,
   "metadata": {
    "application/vnd.databricks.v1+cell": {
     "cellMetadata": {},
     "inputWidgets": {},
     "nuid": "86a224bb-c8ac-41a5-ac9e-4c4599ef2ef5",
     "showTitle": false,
     "title": ""
    }
   },
   "outputs": [],
   "source": [
    "##In Multiplicative model, we assume that all the components of the time series are dependent and in Additive model it is assumed that the components are independent."
   ]
  },
  {
   "cell_type": "code",
   "execution_count": 0,
   "metadata": {
    "application/vnd.databricks.v1+cell": {
     "cellMetadata": {},
     "inputWidgets": {},
     "nuid": "5304f44c-13f1-478a-b794-e745e053d28c",
     "showTitle": false,
     "title": ""
    }
   },
   "outputs": [],
   "source": [
    "from statsmodels.tsa.seasonal import seasonal_decompose\n"
   ]
  },
  {
   "cell_type": "code",
   "execution_count": 0,
   "metadata": {
    "application/vnd.databricks.v1+cell": {
     "cellMetadata": {},
     "inputWidgets": {},
     "nuid": "a3045626-baa3-4440-a897-cce50e6756bc",
     "showTitle": false,
     "title": ""
    }
   },
   "outputs": [],
   "source": [
    "# Multiplicative Decomposition "
   ]
  },
  {
   "cell_type": "code",
   "execution_count": 0,
   "metadata": {
    "application/vnd.databricks.v1+cell": {
     "cellMetadata": {},
     "inputWidgets": {},
     "nuid": "6e43fc46-2474-4f39-8b59-08acc9f54a71",
     "showTitle": false,
     "title": ""
    }
   },
   "outputs": [],
   "source": [
    "multiplicative_decomposition = seasonal_decompose(df['Passengers'], model='multiplicative', period=30)"
   ]
  },
  {
   "cell_type": "code",
   "execution_count": 0,
   "metadata": {
    "application/vnd.databricks.v1+cell": {
     "cellMetadata": {},
     "inputWidgets": {},
     "nuid": "4d594f2f-09a8-4a79-9a0f-7b2354e6040d",
     "showTitle": false,
     "title": ""
    }
   },
   "outputs": [],
   "source": [
    "# Additive Decomposition\n",
    "additive_decomposition = seasonal_decompose(df['Passengers'], model='additive', period=30)\n",
    "\n",
    "# Plot\n",
    "plt.rcParams.update({'figure.figsize': (16,12)})\n",
    "multiplicative_decomposition.plot().suptitle('Multiplicative Decomposition', fontsize=16)\n",
    "plt.tight_layout(rect=[0, 0.03, 1, 0.95])\n",
    "\n",
    "additive_decomposition.plot().suptitle('Additive Decomposition', fontsize=16)\n",
    "plt.tight_layout(rect=[0, 0.03, 1, 0.95])\n",
    "\n",
    "plt.show()"
   ]
  },
  {
   "cell_type": "code",
   "execution_count": 0,
   "metadata": {
    "application/vnd.databricks.v1+cell": {
     "cellMetadata": {},
     "inputWidgets": {},
     "nuid": "471f6136-2c1e-4aad-a51e-a4ea80596177",
     "showTitle": false,
     "title": ""
    }
   },
   "outputs": [],
   "source": [
    "### Detrend"
   ]
  },
  {
   "cell_type": "code",
   "execution_count": 0,
   "metadata": {
    "application/vnd.databricks.v1+cell": {
     "cellMetadata": {},
     "inputWidgets": {},
     "nuid": "0ae786a1-4952-4076-b9fe-8dcbae126e2f",
     "showTitle": false,
     "title": ""
    }
   },
   "outputs": [],
   "source": [
    "# Using scipy: Subtract the line of best fit using least squares\n",
    "from scipy import signal\n",
    "detrended = signal.detrend(df['Passengers'].values)\n",
    "plt.plot(detrended)\n",
    "plt.title('Air Passengers detrended ', fontsize=16)"
   ]
  },
  {
   "cell_type": "code",
   "execution_count": 0,
   "metadata": {
    "application/vnd.databricks.v1+cell": {
     "cellMetadata": {},
     "inputWidgets": {},
     "nuid": "56eacc40-39aa-4e8e-9f71-b2312dc718c8",
     "showTitle": false,
     "title": ""
    }
   },
   "outputs": [],
   "source": [
    "# Using statmodels: Subtracting the Trend Component\n",
    "from statsmodels.tsa.seasonal import seasonal_decompose\n",
    "result_mul = seasonal_decompose(df['Passengers'], model='multiplicative', period=30)\n",
    "detrended = df['Passengers'].values / result_mul.trend\n",
    "plt.plot(detrended)\n",
    "plt.title('Air Passengers detrended by subtracting the trend component', fontsize=16)"
   ]
  },
  {
   "cell_type": "code",
   "execution_count": 0,
   "metadata": {
    "application/vnd.databricks.v1+cell": {
     "cellMetadata": {},
     "inputWidgets": {},
     "nuid": "cd268148-f1f8-4792-850e-3e099b48fb51",
     "showTitle": false,
     "title": ""
    }
   },
   "outputs": [],
   "source": [
    "# Subtracting the seasonal Component\n",
    "\n",
    "# Time Series Decomposition\n",
    "result_mul = seasonal_decompose(df['Passengers'], model='multiplicative', period=30)\n",
    "\n",
    "\n",
    "# Deseasonalize\n",
    "deseasonalized = df['Passengers'].values / result_mul.seasonal\n",
    "\n",
    "# Plot\n",
    "plt.plot(deseasonalized)\n",
    "plt.title('Air Passengers Deseasonalized', fontsize=16)\n",
    "plt.plot()"
   ]
  },
  {
   "cell_type": "code",
   "execution_count": 0,
   "metadata": {
    "application/vnd.databricks.v1+cell": {
     "cellMetadata": {},
     "inputWidgets": {},
     "nuid": "74ea228a-2c4f-44a0-8531-4900f01e895c",
     "showTitle": false,
     "title": ""
    }
   },
   "outputs": [],
   "source": [
    "# Substracting Seasoanl component\n",
    "# Time Series Decomposition\n",
    "result_add = seasonal_decompose(df['Passengers'], model='additive', period=30)\n",
    "\n",
    "# Deseasonalize\n",
    "deseasonalized_add = df['Passengers'].values - result_add.seasonal\n",
    "\n",
    "# Plot\n",
    "plt.plot(deseasonalized_add)\n",
    "plt.title('Air Passengers Deseasonalized', fontsize=16)\n",
    "plt.plot()\n"
   ]
  },
  {
   "cell_type": "code",
   "execution_count": 0,
   "metadata": {
    "application/vnd.databricks.v1+cell": {
     "cellMetadata": {},
     "inputWidgets": {},
     "nuid": "4b0b211f-86b5-436b-a6ce-6427619f56ba",
     "showTitle": false,
     "title": ""
    }
   },
   "outputs": [],
   "source": [
    "desea_df = deseasonalized.to_frame()\n",
    "\n"
   ]
  },
  {
   "cell_type": "code",
   "execution_count": 0,
   "metadata": {
    "application/vnd.databricks.v1+cell": {
     "cellMetadata": {},
     "inputWidgets": {},
     "nuid": "d7dff427-e64f-45d0-96dc-798569fc3aa2",
     "showTitle": false,
     "title": ""
    }
   },
   "outputs": [],
   "source": [
    "desea_df"
   ]
  },
  {
   "cell_type": "code",
   "execution_count": 0,
   "metadata": {
    "application/vnd.databricks.v1+cell": {
     "cellMetadata": {},
     "inputWidgets": {},
     "nuid": "c30c8698-04f7-4deb-b0ef-b44e4fb8c38f",
     "showTitle": false,
     "title": ""
    }
   },
   "outputs": [],
   "source": [
    "train_desea = desea_df[:134]\n",
    "test_desea = desea_df[134:]"
   ]
  },
  {
   "cell_type": "code",
   "execution_count": 0,
   "metadata": {
    "application/vnd.databricks.v1+cell": {
     "cellMetadata": {},
     "inputWidgets": {},
     "nuid": "2de9cbed-d96b-4bf9-aee3-508a9d98a5eb",
     "showTitle": false,
     "title": ""
    }
   },
   "outputs": [],
   "source": [
    "#### Testing Stationarity on data after removing decomposition value\n"
   ]
  },
  {
   "cell_type": "code",
   "execution_count": 0,
   "metadata": {
    "application/vnd.databricks.v1+cell": {
     "cellMetadata": {},
     "inputWidgets": {},
     "nuid": "928b7ff6-87ee-4bb3-b5a0-57a1ce5a6e65",
     "showTitle": false,
     "title": ""
    }
   },
   "outputs": [],
   "source": [
    "stationarity_test(deseasonalized)"
   ]
  },
  {
   "cell_type": "code",
   "execution_count": 0,
   "metadata": {
    "application/vnd.databricks.v1+cell": {
     "cellMetadata": {},
     "inputWidgets": {},
     "nuid": "c4729772-fbd6-43e7-8a59-3f1cc75811f5",
     "showTitle": false,
     "title": ""
    }
   },
   "outputs": [],
   "source": [
    "deseasonalized_diff = deseasonalized.diff(periods = 1) # First order differencing\n",
    "plt.xlabel('Years')\n",
    "plt.ylabel('Passengers')    \n",
    "plt.title('Convert Non Stationary Data to Stationary Data using Differencing on deseasoned data')\n",
    "plt.plot(deseasonalized_diff)"
   ]
  },
  {
   "cell_type": "code",
   "execution_count": 0,
   "metadata": {
    "application/vnd.databricks.v1+cell": {
     "cellMetadata": {},
     "inputWidgets": {},
     "nuid": "c3940726-b332-4a33-b91d-8f9b14451917",
     "showTitle": false,
     "title": ""
    }
   },
   "outputs": [],
   "source": [
    "deseasonalized_diff.dropna(inplace = True)# Data transformation may add na values\n",
    "\n",
    "stationarity_test(deseasonalized_diff)"
   ]
  },
  {
   "cell_type": "code",
   "execution_count": 0,
   "metadata": {
    "application/vnd.databricks.v1+cell": {
     "cellMetadata": {},
     "inputWidgets": {},
     "nuid": "a25fd632-509f-49d3-b879-e98033946d5d",
     "showTitle": false,
     "title": ""
    }
   },
   "outputs": [],
   "source": [
    "deseasonalized_diff2 = deseasonalized_diff.diff(periods = 1) # Second order differencing\n",
    "plt.xlabel('Years')\n",
    "plt.ylabel('Passengers')    \n",
    "plt.title('Convert Non Stationary Data to Stationary Data using 2nd order Differencing on deseasoned data')\n",
    "plt.plot(deseasonalized_diff2)"
   ]
  },
  {
   "cell_type": "code",
   "execution_count": 0,
   "metadata": {
    "application/vnd.databricks.v1+cell": {
     "cellMetadata": {},
     "inputWidgets": {},
     "nuid": "7d6173f6-3d19-49de-bbc7-ee704137ae87",
     "showTitle": false,
     "title": ""
    }
   },
   "outputs": [],
   "source": [
    "deseasonalized_diff2.dropna(inplace = True)# Data transformation may add na values\n",
    "\n",
    "stationarity_test(deseasonalized_diff2)\n"
   ]
  },
  {
   "cell_type": "code",
   "execution_count": 0,
   "metadata": {
    "application/vnd.databricks.v1+cell": {
     "cellMetadata": {},
     "inputWidgets": {},
     "nuid": "ced95b56-8f10-41fd-8dd3-00b654d04bb7",
     "showTitle": false,
     "title": ""
    }
   },
   "outputs": [],
   "source": [
    "deseasonalized_diff2"
   ]
  },
  {
   "cell_type": "code",
   "execution_count": 0,
   "metadata": {
    "application/vnd.databricks.v1+cell": {
     "cellMetadata": {},
     "inputWidgets": {},
     "nuid": "d45872d1-a01e-4bba-b117-4b7999a6f19b",
     "showTitle": false,
     "title": ""
    }
   },
   "outputs": [],
   "source": [
    "deseasonalized_diff2 = deseasonalized_diff2.to_frame()\n",
    "deseasonalized_diff2.head()\n"
   ]
  },
  {
   "cell_type": "code",
   "execution_count": 0,
   "metadata": {
    "application/vnd.databricks.v1+cell": {
     "cellMetadata": {},
     "inputWidgets": {},
     "nuid": "56c76479-2050-4a2f-bda5-061137a7e26f",
     "showTitle": false,
     "title": ""
    }
   },
   "outputs": [],
   "source": [
    "#### Auto ARIMA On Decomposed Multiplicative data\n"
   ]
  },
  {
   "cell_type": "code",
   "execution_count": 0,
   "metadata": {
    "application/vnd.databricks.v1+cell": {
     "cellMetadata": {},
     "inputWidgets": {},
     "nuid": "c326a492-b54c-46ac-ab95-07044fe511b3",
     "showTitle": false,
     "title": ""
    }
   },
   "outputs": [],
   "source": [
    "model_3 = pm.auto_arima(train_desea,trace=True)\n",
    "print(model_3.summary())\n"
   ]
  },
  {
   "cell_type": "code",
   "execution_count": 0,
   "metadata": {
    "application/vnd.databricks.v1+cell": {
     "cellMetadata": {},
     "inputWidgets": {},
     "nuid": "af2a3fdc-6605-415c-9b85-2d43fb008b81",
     "showTitle": false,
     "title": ""
    }
   },
   "outputs": [],
   "source": [
    "model_3.plot_diagnostics()\n"
   ]
  },
  {
   "cell_type": "code",
   "execution_count": 0,
   "metadata": {
    "application/vnd.databricks.v1+cell": {
     "cellMetadata": {},
     "inputWidgets": {},
     "nuid": "ad4ff7c9-04c9-4bba-85ea-1737c1448be6",
     "showTitle": false,
     "title": ""
    }
   },
   "outputs": [],
   "source": [
    "pred_test_sea_3 = model_3.predict()"
   ]
  },
  {
   "cell_type": "code",
   "execution_count": 0,
   "metadata": {
    "application/vnd.databricks.v1+cell": {
     "cellMetadata": {},
     "inputWidgets": {},
     "nuid": "4d33724b-183d-42c2-bb5d-88cb72958227",
     "showTitle": false,
     "title": ""
    }
   },
   "outputs": [],
   "source": [
    "pred_test_sea_3 = pred_test_sea_3.to_frame()\n",
    "pred_test_sea_3.head()"
   ]
  },
  {
   "cell_type": "code",
   "execution_count": 0,
   "metadata": {
    "application/vnd.databricks.v1+cell": {
     "cellMetadata": {},
     "inputWidgets": {},
     "nuid": "f77d05ca-af68-472d-8bd1-181f5c057b66",
     "showTitle": false,
     "title": ""
    }
   },
   "outputs": [],
   "source": [
    "pred_test_sea_3.rename(columns={0:\"Prediction\"},inplace=True)"
   ]
  },
  {
   "cell_type": "code",
   "execution_count": 0,
   "metadata": {
    "application/vnd.databricks.v1+cell": {
     "cellMetadata": {},
     "inputWidgets": {},
     "nuid": "cd2e9d74-bb48-42e7-a0e4-6237910bc02c",
     "showTitle": false,
     "title": ""
    }
   },
   "outputs": [],
   "source": [
    "print(\"Test MAPE : \",mean_absolute_percentage_error(test_desea.seasonal,pred_test_sea_3.Prediction)) #without Seasonality component to predictions"
   ]
  },
  {
   "cell_type": "code",
   "execution_count": 0,
   "metadata": {
    "application/vnd.databricks.v1+cell": {
     "cellMetadata": {},
     "inputWidgets": {},
     "nuid": "55e23378-2479-454c-b075-bbedb2291f00",
     "showTitle": false,
     "title": ""
    }
   },
   "outputs": [],
   "source": [
    "print(\"Train MSE : \",mean_squared_error(test_desea.seasonal,pred_test_sea_3.Prediction)) #without Seasonality component to predictions"
   ]
  },
  {
   "cell_type": "code",
   "execution_count": 0,
   "metadata": {
    "application/vnd.databricks.v1+cell": {
     "cellMetadata": {},
     "inputWidgets": {},
     "nuid": "ebc6af3a-3f85-42ee-a9e4-9b62969330a6",
     "showTitle": false,
     "title": ""
    }
   },
   "outputs": [],
   "source": [
    " #### Additive Train test split\n"
   ]
  },
  {
   "cell_type": "code",
   "execution_count": 0,
   "metadata": {
    "application/vnd.databricks.v1+cell": {
     "cellMetadata": {},
     "inputWidgets": {},
     "nuid": "29b5664a-75fb-432c-8143-d389430c6f1f",
     "showTitle": false,
     "title": ""
    }
   },
   "outputs": [],
   "source": [
    "desea_df_add = deseasonalized_add.to_frame()\n",
    "desea_df_add.head()\n"
   ]
  },
  {
   "cell_type": "code",
   "execution_count": 0,
   "metadata": {
    "application/vnd.databricks.v1+cell": {
     "cellMetadata": {},
     "inputWidgets": {},
     "nuid": "ab6798b6-b017-46b5-8716-5cdc9d5297c3",
     "showTitle": false,
     "title": ""
    }
   },
   "outputs": [],
   "source": [
    "train_desea_add = desea_df_add[:134]\n",
    "test_desea_add = desea_df_add[134:]"
   ]
  },
  {
   "cell_type": "code",
   "execution_count": 0,
   "metadata": {
    "application/vnd.databricks.v1+cell": {
     "cellMetadata": {},
     "inputWidgets": {},
     "nuid": "1b65b0d9-a9ef-4714-b0a6-c65234832546",
     "showTitle": false,
     "title": ""
    }
   },
   "outputs": [],
   "source": [
    "stationarity_test(train_desea_add)"
   ]
  },
  {
   "cell_type": "code",
   "execution_count": 0,
   "metadata": {
    "application/vnd.databricks.v1+cell": {
     "cellMetadata": {},
     "inputWidgets": {},
     "nuid": "2281f694-eb4e-4efb-9715-99887a0893c1",
     "showTitle": false,
     "title": ""
    }
   },
   "outputs": [],
   "source": [
    "train_desea_add_diff = train_desea_add.diff(periods = 1) # First order differencing\n",
    "plt.xlabel('Years')\n",
    "plt.ylabel('Passengers')    \n",
    "plt.title('Convert Non Stationary Data to Stationary Data using Differencing on deseasoned data (additive)')\n",
    "plt.plot(train_desea_add_diff)\n"
   ]
  },
  {
   "cell_type": "code",
   "execution_count": 0,
   "metadata": {
    "application/vnd.databricks.v1+cell": {
     "cellMetadata": {},
     "inputWidgets": {},
     "nuid": "7d425fa9-33e3-41fd-8467-ddb146b2d641",
     "showTitle": false,
     "title": ""
    }
   },
   "outputs": [],
   "source": [
    "train_desea_add_diff.dropna(inplace = True)# Data transformation may add na values\n",
    "\n",
    "stationarity_test(train_desea_add_diff)"
   ]
  },
  {
   "cell_type": "code",
   "execution_count": 0,
   "metadata": {
    "application/vnd.databricks.v1+cell": {
     "cellMetadata": {},
     "inputWidgets": {},
     "nuid": "9f6f2c93-249b-453c-b028-84edbacc9d0b",
     "showTitle": false,
     "title": ""
    }
   },
   "outputs": [],
   "source": [
    "### Auto ARIMA on Decomposed Additive data\n"
   ]
  },
  {
   "cell_type": "code",
   "execution_count": 0,
   "metadata": {
    "application/vnd.databricks.v1+cell": {
     "cellMetadata": {},
     "inputWidgets": {},
     "nuid": "e12576ed-9796-49ef-98d3-7f73bc50ef44",
     "showTitle": false,
     "title": ""
    }
   },
   "outputs": [],
   "source": [
    "model_4 = pm.auto_arima(train_desea_add,trace=True)\n",
    "\n",
    "print(model_4.summary())\n"
   ]
  },
  {
   "cell_type": "code",
   "execution_count": 0,
   "metadata": {
    "application/vnd.databricks.v1+cell": {
     "cellMetadata": {},
     "inputWidgets": {},
     "nuid": "f9e1e817-9822-465d-b18b-444457bcafbe",
     "showTitle": false,
     "title": ""
    }
   },
   "outputs": [],
   "source": [
    "model_4.plot_diagnostics()"
   ]
  },
  {
   "cell_type": "code",
   "execution_count": 0,
   "metadata": {
    "application/vnd.databricks.v1+cell": {
     "cellMetadata": {},
     "inputWidgets": {},
     "nuid": "3ee22890-1122-4e67-9a2d-e0abc78ab009",
     "showTitle": false,
     "title": ""
    }
   },
   "outputs": [],
   "source": [
    "pred_test_sea_4 = model_4.predict()"
   ]
  },
  {
   "cell_type": "code",
   "execution_count": 0,
   "metadata": {
    "application/vnd.databricks.v1+cell": {
     "cellMetadata": {},
     "inputWidgets": {},
     "nuid": "ee115702-ced1-4629-bc15-ec7a1686a941",
     "showTitle": false,
     "title": ""
    }
   },
   "outputs": [],
   "source": [
    "pred_test_sea_4 = pred_test_sea_4.to_frame()\n",
    "pred_test_sea_4.head()\n"
   ]
  },
  {
   "cell_type": "code",
   "execution_count": 0,
   "metadata": {
    "application/vnd.databricks.v1+cell": {
     "cellMetadata": {},
     "inputWidgets": {},
     "nuid": "8af55faa-0c69-4288-b13b-0822f008863b",
     "showTitle": false,
     "title": ""
    }
   },
   "outputs": [],
   "source": [
    "pred_test_sea_4.rename(columns={0:\"Prediction\"},inplace=True)"
   ]
  },
  {
   "cell_type": "code",
   "execution_count": 0,
   "metadata": {
    "application/vnd.databricks.v1+cell": {
     "cellMetadata": {},
     "inputWidgets": {},
     "nuid": "8037d922-00e7-4341-9725-652c1d9dded0",
     "showTitle": false,
     "title": ""
    }
   },
   "outputs": [],
   "source": [
    "print(\"Test MAPE : \",mean_absolute_percentage_error(test_desea_add.seasonal,pred_test_sea_4.Prediction)) #without Seasonality component to predictions"
   ]
  },
  {
   "cell_type": "code",
   "execution_count": 0,
   "metadata": {
    "application/vnd.databricks.v1+cell": {
     "cellMetadata": {},
     "inputWidgets": {},
     "nuid": "5a786ee6-21c0-44b8-94e2-c2594ab0ea54",
     "showTitle": false,
     "title": ""
    }
   },
   "outputs": [],
   "source": [
    "print(\"Test MSE : \",mean_squared_error(test_desea_add.seasonal,pred_test_sea_4.Prediction)) #without Seasonality component to predictions\n"
   ]
  },
  {
   "cell_type": "code",
   "execution_count": 0,
   "metadata": {
    "application/vnd.databricks.v1+cell": {
     "cellMetadata": {},
     "inputWidgets": {},
     "nuid": "cf07a250-4657-4b72-90c7-771f92e9a95b",
     "showTitle": false,
     "title": ""
    }
   },
   "outputs": [],
   "source": [
    "#### SARIMAX"
   ]
  },
  {
   "cell_type": "code",
   "execution_count": 0,
   "metadata": {
    "application/vnd.databricks.v1+cell": {
     "cellMetadata": {},
     "inputWidgets": {},
     "nuid": "efe1d79b-a195-43c3-ad3c-fe6299adf8cb",
     "showTitle": false,
     "title": ""
    }
   },
   "outputs": [],
   "source": [
    "model_5 = sm.tsa.statespace.SARIMAX(df_train,order=(2,1,2), seasonal_order=(2,1,2,12),\n",
    "\n",
    "                                 enforce_stationarity=False, enforce_invertibility=False,).fit()\n",
    "\n",
    "model_5.summary()"
   ]
  },
  {
   "cell_type": "code",
   "execution_count": 0,
   "metadata": {
    "application/vnd.databricks.v1+cell": {
     "cellMetadata": {},
     "inputWidgets": {},
     "nuid": "e6906f11-70d4-4bf1-a106-4598e62aacd8",
     "showTitle": false,
     "title": ""
    }
   },
   "outputs": [],
   "source": [
    "#model_5 = pm.auto_arima(df_train,seasonality=True,trace=True)\n",
    "\n",
    "#print(model_5.summary())\n"
   ]
  },
  {
   "cell_type": "code",
   "execution_count": 0,
   "metadata": {
    "application/vnd.databricks.v1+cell": {
     "cellMetadata": {},
     "inputWidgets": {},
     "nuid": "d5d235ca-b753-42a8-a686-c342f8aebe2d",
     "showTitle": false,
     "title": ""
    }
   },
   "outputs": [],
   "source": [
    "model_5.plot_diagnostics()\n"
   ]
  },
  {
   "cell_type": "code",
   "execution_count": 0,
   "metadata": {
    "application/vnd.databricks.v1+cell": {
     "cellMetadata": {},
     "inputWidgets": {},
     "nuid": "d5f26f40-4078-44fb-a256-8d69fc9de195",
     "showTitle": false,
     "title": ""
    }
   },
   "outputs": [],
   "source": [
    "pred_train_sea_5 = model_5.predict()"
   ]
  },
  {
   "cell_type": "code",
   "execution_count": 0,
   "metadata": {
    "application/vnd.databricks.v1+cell": {
     "cellMetadata": {},
     "inputWidgets": {},
     "nuid": "52d17542-1902-4650-80f4-4174cd52270d",
     "showTitle": false,
     "title": ""
    }
   },
   "outputs": [],
   "source": [
    "pred_train_sea_5 = pred_train_sea_5.to_frame()\n",
    "pred_train_sea_5.head()\n"
   ]
  },
  {
   "cell_type": "code",
   "execution_count": 0,
   "metadata": {
    "application/vnd.databricks.v1+cell": {
     "cellMetadata": {},
     "inputWidgets": {},
     "nuid": "00b19387-661f-45f3-bb79-de70e51f69c8",
     "showTitle": false,
     "title": ""
    }
   },
   "outputs": [],
   "source": [
    "#pred_train_sea_5.rename(columns={0:\"Prediction\"},inplace=True)\n"
   ]
  },
  {
   "cell_type": "code",
   "execution_count": 0,
   "metadata": {
    "application/vnd.databricks.v1+cell": {
     "cellMetadata": {},
     "inputWidgets": {},
     "nuid": "f7238247-4c37-4e8c-b480-fb2c9b652189",
     "showTitle": false,
     "title": ""
    }
   },
   "outputs": [],
   "source": [
    "print(\"Test MAPE : \",mean_absolute_percentage_error(df_train.Passengers,pred_train_sea_5.predicted_mean)) #without Seasonality component to predictions\n"
   ]
  },
  {
   "cell_type": "code",
   "execution_count": 0,
   "metadata": {
    "application/vnd.databricks.v1+cell": {
     "cellMetadata": {},
     "inputWidgets": {},
     "nuid": "2e0b00c2-e58b-4c6f-bb75-966dd24391d6",
     "showTitle": false,
     "title": ""
    }
   },
   "outputs": [],
   "source": [
    "print(\"Test MSE : \",mean_squared_error(df_train.Passengers,pred_train_sea_5.predicted_mean)) #without Seasonality component to predictionshow t"
   ]
  },
  {
   "cell_type": "code",
   "execution_count": 0,
   "metadata": {
    "application/vnd.databricks.v1+cell": {
     "cellMetadata": {},
     "inputWidgets": {},
     "nuid": "22bd4955-6ea7-46dd-9f44-936eabd04f7f",
     "showTitle": false,
     "title": ""
    }
   },
   "outputs": [],
   "source": [
    "forecast_test = model_5.forecast(10)"
   ]
  },
  {
   "cell_type": "code",
   "execution_count": 0,
   "metadata": {
    "application/vnd.databricks.v1+cell": {
     "cellMetadata": {},
     "inputWidgets": {},
     "nuid": "4177af65-683a-47fb-a074-2b40a98b63c8",
     "showTitle": false,
     "title": ""
    }
   },
   "outputs": [],
   "source": [
    "forecast_test = forecast_test.to_frame()"
   ]
  },
  {
   "cell_type": "code",
   "execution_count": 0,
   "metadata": {
    "application/vnd.databricks.v1+cell": {
     "cellMetadata": {},
     "inputWidgets": {},
     "nuid": "7ca2c2de-5b56-4c58-86a7-ebcca3a44702",
     "showTitle": false,
     "title": ""
    }
   },
   "outputs": [],
   "source": [
    "print(\"Test MAPE : \",mean_absolute_percentage_error(df_test.Passengers,forecast_test.predicted_mean)) #without Seasonality component to predictions"
   ]
  },
  {
   "cell_type": "code",
   "execution_count": 0,
   "metadata": {
    "application/vnd.databricks.v1+cell": {
     "cellMetadata": {},
     "inputWidgets": {},
     "nuid": "8e81cee2-fee3-4770-8fac-499b2542176d",
     "showTitle": false,
     "title": ""
    }
   },
   "outputs": [],
   "source": [
    "print(\"Test MSE : \",mean_squared_error(df_test.Passengers,forecast_test.predicted_mean)) #without Seasonality component to predictionshow t"
   ]
  },
  {
   "cell_type": "code",
   "execution_count": 0,
   "metadata": {
    "application/vnd.databricks.v1+cell": {
     "cellMetadata": {},
     "inputWidgets": {},
     "nuid": "f285eb3f-234d-4396-b056-f30a6f150157",
     "showTitle": false,
     "title": ""
    }
   },
   "outputs": [],
   "source": [
    "pred_train = model_5.predict(df_train.index.min(), df_train.index.max())\n",
    "\n",
    "pred_test = model_5.predict(df_test.index.min(), df_test.index.max())\n",
    "\n",
    "#plt.title('ARIMA model MSE:{}'.format(mean_squared_error(test,pred_test)))\n",
    "\n",
    "plt.figure(figsize=(16,8))\n",
    "\n",
    "plt.plot(df_train, label='train')\n",
    "\n",
    "plt.plot(pred_train, color='orange', linestyle='--', label= 'train prediction')\n",
    "\n",
    "plt.plot(pred_test, color='red', linestyle='--', label= 'prediction')\n",
    "\n",
    "plt.plot(df_test, color='green', label='actual')\n",
    "\n",
    "plt.plot(forecast_test.predicted_mean, color='purple', linestyle='-', label= 'forecast')\n",
    "\n",
    "plt.legend(loc='best')\n",
    "\n",
    "plt.show()"
   ]
  },
  {
   "cell_type": "code",
   "execution_count": 0,
   "metadata": {
    "application/vnd.databricks.v1+cell": {
     "cellMetadata": {},
     "inputWidgets": {},
     "nuid": "1f4372c6-4e86-4f86-b056-a6c226bd4c77",
     "showTitle": false,
     "title": ""
    }
   },
   "outputs": [],
   "source": []
  },
  {
   "cell_type": "code",
   "execution_count": 0,
   "metadata": {
    "application/vnd.databricks.v1+cell": {
     "cellMetadata": {},
     "inputWidgets": {},
     "nuid": "1d856d61-2b67-44cf-b007-c4d2bbc4fc46",
     "showTitle": false,
     "title": ""
    }
   },
   "outputs": [],
   "source": []
  },
  {
   "cell_type": "code",
   "execution_count": 0,
   "metadata": {
    "application/vnd.databricks.v1+cell": {
     "cellMetadata": {},
     "inputWidgets": {},
     "nuid": "a59f5571-6e5e-491f-943f-2205c0f4de61",
     "showTitle": false,
     "title": ""
    }
   },
   "outputs": [],
   "source": []
  },
  {
   "cell_type": "code",
   "execution_count": 0,
   "metadata": {
    "application/vnd.databricks.v1+cell": {
     "cellMetadata": {},
     "inputWidgets": {},
     "nuid": "b5935039-1c46-4f34-8560-7850265813df",
     "showTitle": false,
     "title": ""
    }
   },
   "outputs": [],
   "source": []
  },
  {
   "cell_type": "code",
   "execution_count": 0,
   "metadata": {
    "application/vnd.databricks.v1+cell": {
     "cellMetadata": {},
     "inputWidgets": {},
     "nuid": "6878a434-f442-414e-8cb8-d4657989a504",
     "showTitle": false,
     "title": ""
    }
   },
   "outputs": [],
   "source": []
  },
  {
   "cell_type": "code",
   "execution_count": 0,
   "metadata": {
    "application/vnd.databricks.v1+cell": {
     "cellMetadata": {},
     "inputWidgets": {},
     "nuid": "5484b60c-5b03-43fd-a298-8e60bfac17f5",
     "showTitle": false,
     "title": ""
    }
   },
   "outputs": [],
   "source": []
  },
  {
   "cell_type": "code",
   "execution_count": 0,
   "metadata": {
    "application/vnd.databricks.v1+cell": {
     "cellMetadata": {},
     "inputWidgets": {},
     "nuid": "cd184697-fea8-4cf1-b679-b71f30c19d87",
     "showTitle": false,
     "title": ""
    }
   },
   "outputs": [],
   "source": []
  }
 ],
 "metadata": {
  "application/vnd.databricks.v1+notebook": {
   "dashboards": [],
   "language": "python",
   "notebookMetadata": {
    "pythonIndentUnit": 4
   },
   "notebookName": "passengers (1)",
   "widgets": {}
  },
  "kernelspec": {
   "display_name": "Python 3 (ipykernel)",
   "language": "python",
   "name": "python3"
  },
  "language_info": {
   "codemirror_mode": {
    "name": "ipython",
    "version": 3
   },
   "file_extension": ".py",
   "mimetype": "text/x-python",
   "name": "python",
   "nbconvert_exporter": "python",
   "pygments_lexer": "ipython3",
   "version": "3.9.13"
  }
 },
 "nbformat": 4,
 "nbformat_minor": 0
}
